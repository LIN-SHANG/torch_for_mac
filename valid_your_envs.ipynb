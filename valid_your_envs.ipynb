{
 "cells": [
  {
   "cell_type": "code",
   "execution_count": 10,
   "id": "efda6d77-ca95-4db0-821d-0b8d703ba813",
   "metadata": {},
   "outputs": [
    {
     "name": "stdout",
     "output_type": "stream",
     "text": [
      "Python Platform: macOS-14.2-arm64-arm-64bit\n",
      "Python Version: 2.1.0 \n",
      "\n",
      "Python 3.9.18 | packaged by conda-forge | (main, Aug 30 2023, 03:53:08) \n",
      "[Clang 15.0.7 ]\n",
      "MPS (Apple Metal) is AVALIABLE\n",
      "Target device is mps\n"
     ]
    }
   ],
   "source": [
    "# what version of Python do you have?\n",
    "import sys\n",
    "import platform\n",
    "import torch\n",
    "# import pandas as pd\n",
    "# import sklearn as sk\n",
    "\n",
    "has_mps = torch.backends.mps.is_built()\n",
    "device = 'mps' if torch.backends.mps.is_built() else False\n",
    "\n",
    "print(f\"Python Platform: {platform.platform()}\")\n",
    "print(f\"Python Version: {torch.__version__}\",'\\n')\n",
    "print(f\"Python {sys.version}\")\n",
    "print(\"MPS (Apple Metal) is\", \"AVALIABLE\" if has_mps else \"NOT AVALIABLE\")\n",
    "print(f\"Target device is {device}\")"
   ]
  },
  {
   "cell_type": "code",
   "execution_count": null,
   "id": "ecc149cc-23a5-4e14-a626-2f4f83bbdd89",
   "metadata": {},
   "outputs": [],
   "source": []
  }
 ],
 "metadata": {
  "kernelspec": {
   "display_name": "torch_mac",
   "language": "python",
   "name": "python3"
  },
  "language_info": {
   "codemirror_mode": {
    "name": "ipython",
    "version": 3
   },
   "file_extension": ".py",
   "mimetype": "text/x-python",
   "name": "python",
   "nbconvert_exporter": "python",
   "pygments_lexer": "ipython3",
   "version": "3.9.18"
  }
 },
 "nbformat": 4,
 "nbformat_minor": 5
}
